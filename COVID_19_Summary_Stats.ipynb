{
 "cells": [
  {
   "cell_type": "code",
   "execution_count": 52,
   "metadata": {},
   "outputs": [
    {
     "name": "stdout",
     "output_type": "stream",
     "text": [
      "Collecting scipy\n",
      "  Downloading scipy-1.4.1-cp38-cp38-win_amd64.whl (31.0 MB)\n",
      "Requirement already satisfied: numpy>=1.13.3 in c:\\users\\kyran\\anaconda3\\envs\\pythondata\\lib\\site-packages (from scipy) (1.18.1)\n",
      "Installing collected packages: scipy\n",
      "Successfully installed scipy-1.4.1\n"
     ]
    }
   ],
   "source": [
    "!pip install scipy\n"
   ]
  },
  {
   "cell_type": "code",
   "execution_count": 80,
   "metadata": {},
   "outputs": [
    {
     "data": {
      "text/html": [
       "<div>\n",
       "<style scoped>\n",
       "    .dataframe tbody tr th:only-of-type {\n",
       "        vertical-align: middle;\n",
       "    }\n",
       "\n",
       "    .dataframe tbody tr th {\n",
       "        vertical-align: top;\n",
       "    }\n",
       "\n",
       "    .dataframe thead th {\n",
       "        text-align: right;\n",
       "    }\n",
       "</style>\n",
       "<table border=\"1\" class=\"dataframe\">\n",
       "  <thead>\n",
       "    <tr style=\"text-align: right;\">\n",
       "      <th></th>\n",
       "      <th>Province/State</th>\n",
       "      <th>Country/Region</th>\n",
       "      <th>Last Update</th>\n",
       "      <th>Confirmed</th>\n",
       "      <th>Deaths</th>\n",
       "      <th>Recovered</th>\n",
       "      <th>Latitude</th>\n",
       "      <th>Longitude</th>\n",
       "    </tr>\n",
       "  </thead>\n",
       "  <tbody>\n",
       "    <tr>\n",
       "      <th>0</th>\n",
       "      <td>Hubei</td>\n",
       "      <td>China</td>\n",
       "      <td>2020-03-15T18:20:18</td>\n",
       "      <td>67794</td>\n",
       "      <td>3085</td>\n",
       "      <td>54288</td>\n",
       "      <td>30.9756</td>\n",
       "      <td>112.2707</td>\n",
       "    </tr>\n",
       "    <tr>\n",
       "      <th>1</th>\n",
       "      <td>NaN</td>\n",
       "      <td>Italy</td>\n",
       "      <td>2020-03-14T20:13:16</td>\n",
       "      <td>24747</td>\n",
       "      <td>1809</td>\n",
       "      <td>2335</td>\n",
       "      <td>41.8719</td>\n",
       "      <td>12.5674</td>\n",
       "    </tr>\n",
       "    <tr>\n",
       "      <th>2</th>\n",
       "      <td>NaN</td>\n",
       "      <td>Iran</td>\n",
       "      <td>2020-03-15T18:20:18</td>\n",
       "      <td>13938</td>\n",
       "      <td>724</td>\n",
       "      <td>4590</td>\n",
       "      <td>32.4279</td>\n",
       "      <td>53.6880</td>\n",
       "    </tr>\n",
       "    <tr>\n",
       "      <th>3</th>\n",
       "      <td>NaN</td>\n",
       "      <td>Korea, South</td>\n",
       "      <td>2020-03-15T18:20:18</td>\n",
       "      <td>8162</td>\n",
       "      <td>75</td>\n",
       "      <td>510</td>\n",
       "      <td>35.9078</td>\n",
       "      <td>127.7669</td>\n",
       "    </tr>\n",
       "    <tr>\n",
       "      <th>4</th>\n",
       "      <td>NaN</td>\n",
       "      <td>Spain</td>\n",
       "      <td>2020-03-15T18:20:18</td>\n",
       "      <td>7798</td>\n",
       "      <td>289</td>\n",
       "      <td>517</td>\n",
       "      <td>40.4637</td>\n",
       "      <td>-3.7492</td>\n",
       "    </tr>\n",
       "  </tbody>\n",
       "</table>\n",
       "</div>"
      ],
      "text/plain": [
       "  Province/State Country/Region          Last Update  Confirmed  Deaths  \\\n",
       "0          Hubei          China  2020-03-15T18:20:18      67794    3085   \n",
       "1            NaN          Italy  2020-03-14T20:13:16      24747    1809   \n",
       "2            NaN           Iran  2020-03-15T18:20:18      13938     724   \n",
       "3            NaN   Korea, South  2020-03-15T18:20:18       8162      75   \n",
       "4            NaN          Spain  2020-03-15T18:20:18       7798     289   \n",
       "\n",
       "   Recovered  Latitude  Longitude  \n",
       "0      54288   30.9756   112.2707  \n",
       "1       2335   41.8719    12.5674  \n",
       "2       4590   32.4279    53.6880  \n",
       "3        510   35.9078   127.7669  \n",
       "4        517   40.4637    -3.7492  "
      ]
     },
     "execution_count": 80,
     "metadata": {},
     "output_type": "execute_result"
    }
   ],
   "source": [
    "# Dependencies and Setup\n",
    "import matplotlib.pyplot as plt\n",
    "import pandas as pd\n",
    "import scipy.stats as st\n",
    "import numpy as np\n",
    "from scipy.stats import linregress\n",
    "\n",
    "# Read data files\n",
    "\n",
    "daily_report= pd.read_csv(\"C:/Users/kyran/Documents/COVID-19/csse_covid_19_data/csse_covid_19_daily_reports/03_15_2020.csv\")\n",
    "\n",
    "daily_report.head()"
   ]
  },
  {
   "cell_type": "code",
   "execution_count": 4,
   "metadata": {},
   "outputs": [
    {
     "data": {
      "text/html": [
       "<div>\n",
       "<style scoped>\n",
       "    .dataframe tbody tr th:only-of-type {\n",
       "        vertical-align: middle;\n",
       "    }\n",
       "\n",
       "    .dataframe tbody tr th {\n",
       "        vertical-align: top;\n",
       "    }\n",
       "\n",
       "    .dataframe thead th {\n",
       "        text-align: right;\n",
       "    }\n",
       "</style>\n",
       "<table border=\"1\" class=\"dataframe\">\n",
       "  <thead>\n",
       "    <tr style=\"text-align: right;\">\n",
       "      <th></th>\n",
       "      <th>Confirmed</th>\n",
       "      <th>Deaths</th>\n",
       "      <th>Recovered</th>\n",
       "      <th>Latitude</th>\n",
       "      <th>Longitude</th>\n",
       "    </tr>\n",
       "  </thead>\n",
       "  <tbody>\n",
       "    <tr>\n",
       "      <th>count</th>\n",
       "      <td>258.000000</td>\n",
       "      <td>258.000000</td>\n",
       "      <td>258.000000</td>\n",
       "      <td>258.000000</td>\n",
       "      <td>258.000000</td>\n",
       "    </tr>\n",
       "    <tr>\n",
       "      <th>mean</th>\n",
       "      <td>649.019380</td>\n",
       "      <td>24.961240</td>\n",
       "      <td>294.705426</td>\n",
       "      <td>27.534099</td>\n",
       "      <td>5.401220</td>\n",
       "    </tr>\n",
       "    <tr>\n",
       "      <th>std</th>\n",
       "      <td>4626.820447</td>\n",
       "      <td>227.106821</td>\n",
       "      <td>3394.892621</td>\n",
       "      <td>22.760023</td>\n",
       "      <td>81.591161</td>\n",
       "    </tr>\n",
       "    <tr>\n",
       "      <th>min</th>\n",
       "      <td>0.000000</td>\n",
       "      <td>0.000000</td>\n",
       "      <td>0.000000</td>\n",
       "      <td>-41.454500</td>\n",
       "      <td>-157.498300</td>\n",
       "    </tr>\n",
       "    <tr>\n",
       "      <th>25%</th>\n",
       "      <td>4.000000</td>\n",
       "      <td>0.000000</td>\n",
       "      <td>0.000000</td>\n",
       "      <td>15.345875</td>\n",
       "      <td>-72.744225</td>\n",
       "    </tr>\n",
       "    <tr>\n",
       "      <th>50%</th>\n",
       "      <td>26.500000</td>\n",
       "      <td>0.000000</td>\n",
       "      <td>0.000000</td>\n",
       "      <td>33.913000</td>\n",
       "      <td>10.976800</td>\n",
       "    </tr>\n",
       "    <tr>\n",
       "      <th>75%</th>\n",
       "      <td>118.500000</td>\n",
       "      <td>1.000000</td>\n",
       "      <td>4.750000</td>\n",
       "      <td>42.750475</td>\n",
       "      <td>72.251800</td>\n",
       "    </tr>\n",
       "    <tr>\n",
       "      <th>max</th>\n",
       "      <td>67794.000000</td>\n",
       "      <td>3085.000000</td>\n",
       "      <td>54288.000000</td>\n",
       "      <td>64.963100</td>\n",
       "      <td>174.886000</td>\n",
       "    </tr>\n",
       "  </tbody>\n",
       "</table>\n",
       "</div>"
      ],
      "text/plain": [
       "          Confirmed       Deaths     Recovered    Latitude   Longitude\n",
       "count    258.000000   258.000000    258.000000  258.000000  258.000000\n",
       "mean     649.019380    24.961240    294.705426   27.534099    5.401220\n",
       "std     4626.820447   227.106821   3394.892621   22.760023   81.591161\n",
       "min        0.000000     0.000000      0.000000  -41.454500 -157.498300\n",
       "25%        4.000000     0.000000      0.000000   15.345875  -72.744225\n",
       "50%       26.500000     0.000000      0.000000   33.913000   10.976800\n",
       "75%      118.500000     1.000000      4.750000   42.750475   72.251800\n",
       "max    67794.000000  3085.000000  54288.000000   64.963100  174.886000"
      ]
     },
     "execution_count": 4,
     "metadata": {},
     "output_type": "execute_result"
    }
   ],
   "source": [
    "daily_report.describe()"
   ]
  },
  {
   "cell_type": "code",
   "execution_count": 5,
   "metadata": {},
   "outputs": [
    {
     "data": {
      "text/plain": [
       "Province/State     object\n",
       "Country/Region     object\n",
       "Last Update        object\n",
       "Confirmed           int64\n",
       "Deaths              int64\n",
       "Recovered           int64\n",
       "Latitude          float64\n",
       "Longitude         float64\n",
       "dtype: object"
      ]
     },
     "execution_count": 5,
     "metadata": {},
     "output_type": "execute_result"
    }
   ],
   "source": [
    "daily_report.dtypes"
   ]
  },
  {
   "cell_type": "code",
   "execution_count": 12,
   "metadata": {},
   "outputs": [
    {
     "data": {
      "text/plain": [
       "Country/Region\n",
       "Afghanistan                       16\n",
       "Albania                           42\n",
       "Algeria                           48\n",
       "Andorra                            1\n",
       "Antigua and Barbuda                1\n",
       "                                  ..\n",
       "Uruguay                            4\n",
       "Uzbekistan                         1\n",
       "Venezuela                         10\n",
       "Vietnam                           56\n",
       "occupied Palestinian territory     0\n",
       "Name: Confirmed, Length: 147, dtype: int64"
      ]
     },
     "execution_count": 12,
     "metadata": {},
     "output_type": "execute_result"
    }
   ],
   "source": [
    "# Generate a summary statistics table of sum, mean, median, variance, standard deviation, \n",
    "# and SEM of the confirmed, deaths, and recovery for each country\n",
    "\n",
    "#Sum\n",
    "confirmed_sum= daily_report.groupby('Country/Region').sum()['Confirmed']\n",
    "deaths_sum= daily_report.groupby('Country/Region').sum()['Deaths']\n",
    "recovered_sum= daily_report.groupby('Country/Region').sum()['Recovered']\n",
    "\n",
    "confirmed_sum\n"
   ]
  },
  {
   "cell_type": "code",
   "execution_count": 13,
   "metadata": {},
   "outputs": [
    {
     "data": {
      "text/plain": [
       "Country/Region\n",
       "Afghanistan                       0\n",
       "Albania                           1\n",
       "Algeria                           4\n",
       "Andorra                           0\n",
       "Antigua and Barbuda               0\n",
       "                                 ..\n",
       "Uruguay                           0\n",
       "Uzbekistan                        0\n",
       "Venezuela                         0\n",
       "Vietnam                           0\n",
       "occupied Palestinian territory    0\n",
       "Name: Deaths, Length: 147, dtype: int64"
      ]
     },
     "execution_count": 13,
     "metadata": {},
     "output_type": "execute_result"
    }
   ],
   "source": [
    "deaths_sum"
   ]
  },
  {
   "cell_type": "code",
   "execution_count": 14,
   "metadata": {},
   "outputs": [
    {
     "data": {
      "text/plain": [
       "Country/Region\n",
       "Afghanistan                        0\n",
       "Albania                            0\n",
       "Algeria                           12\n",
       "Andorra                            1\n",
       "Antigua and Barbuda                0\n",
       "                                  ..\n",
       "Uruguay                            0\n",
       "Uzbekistan                         0\n",
       "Venezuela                          0\n",
       "Vietnam                           16\n",
       "occupied Palestinian territory     0\n",
       "Name: Recovered, Length: 147, dtype: int64"
      ]
     },
     "execution_count": 14,
     "metadata": {},
     "output_type": "execute_result"
    }
   ],
   "source": [
    "recovered_sum"
   ]
  },
  {
   "cell_type": "code",
   "execution_count": 15,
   "metadata": {},
   "outputs": [],
   "source": [
    "#mean\n",
    "confirmed_mean= daily_report.groupby('Country/Region').mean()['Confirmed']\n",
    "deaths_mean= daily_report.groupby('Country/Region').mean()['Deaths']\n",
    "recovered_mean= daily_report.groupby('Country/Region').mean()['Recovered']"
   ]
  },
  {
   "cell_type": "code",
   "execution_count": 16,
   "metadata": {},
   "outputs": [
    {
     "data": {
      "text/plain": [
       "Country/Region\n",
       "Afghanistan                       16.0\n",
       "Albania                           42.0\n",
       "Algeria                           48.0\n",
       "Andorra                            1.0\n",
       "Antigua and Barbuda                1.0\n",
       "                                  ... \n",
       "Uruguay                            4.0\n",
       "Uzbekistan                         1.0\n",
       "Venezuela                         10.0\n",
       "Vietnam                           56.0\n",
       "occupied Palestinian territory     0.0\n",
       "Name: Confirmed, Length: 147, dtype: float64"
      ]
     },
     "execution_count": 16,
     "metadata": {},
     "output_type": "execute_result"
    }
   ],
   "source": [
    "confirmed_mean"
   ]
  },
  {
   "cell_type": "code",
   "execution_count": 17,
   "metadata": {},
   "outputs": [
    {
     "data": {
      "text/plain": [
       "Country/Region\n",
       "Afghanistan                       0.0\n",
       "Albania                           1.0\n",
       "Algeria                           4.0\n",
       "Andorra                           0.0\n",
       "Antigua and Barbuda               0.0\n",
       "                                 ... \n",
       "Uruguay                           0.0\n",
       "Uzbekistan                        0.0\n",
       "Venezuela                         0.0\n",
       "Vietnam                           0.0\n",
       "occupied Palestinian territory    0.0\n",
       "Name: Deaths, Length: 147, dtype: float64"
      ]
     },
     "execution_count": 17,
     "metadata": {},
     "output_type": "execute_result"
    }
   ],
   "source": [
    "deaths_mean"
   ]
  },
  {
   "cell_type": "code",
   "execution_count": 20,
   "metadata": {},
   "outputs": [
    {
     "data": {
      "text/plain": [
       "Country/Region\n",
       "Afghanistan                        0.0\n",
       "Albania                            0.0\n",
       "Algeria                           12.0\n",
       "Andorra                            1.0\n",
       "Antigua and Barbuda                0.0\n",
       "                                  ... \n",
       "Uruguay                            0.0\n",
       "Uzbekistan                         0.0\n",
       "Venezuela                          0.0\n",
       "Vietnam                           16.0\n",
       "occupied Palestinian territory     0.0\n",
       "Name: Recovered, Length: 147, dtype: float64"
      ]
     },
     "execution_count": 20,
     "metadata": {},
     "output_type": "execute_result"
    }
   ],
   "source": [
    "recovered_mean"
   ]
  },
  {
   "cell_type": "code",
   "execution_count": 21,
   "metadata": {},
   "outputs": [],
   "source": [
    "#median\n",
    "confirmed_median= daily_report.groupby('Country/Region').median()['Confirmed']\n",
    "deaths_median= daily_report.groupby('Country/Region').median()['Deaths']\n",
    "recovered_median= daily_report.groupby('Country/Region').median()['Recovered']"
   ]
  },
  {
   "cell_type": "code",
   "execution_count": 22,
   "metadata": {},
   "outputs": [
    {
     "data": {
      "text/plain": [
       "Country/Region\n",
       "Afghanistan                       16.0\n",
       "Albania                           42.0\n",
       "Algeria                           48.0\n",
       "Andorra                            1.0\n",
       "Antigua and Barbuda                1.0\n",
       "                                  ... \n",
       "Uruguay                            4.0\n",
       "Uzbekistan                         1.0\n",
       "Venezuela                         10.0\n",
       "Vietnam                           56.0\n",
       "occupied Palestinian territory     0.0\n",
       "Name: Confirmed, Length: 147, dtype: float64"
      ]
     },
     "execution_count": 22,
     "metadata": {},
     "output_type": "execute_result"
    }
   ],
   "source": [
    "confirmed_median"
   ]
  },
  {
   "cell_type": "code",
   "execution_count": 23,
   "metadata": {},
   "outputs": [
    {
     "data": {
      "text/plain": [
       "Country/Region\n",
       "Afghanistan                       0.0\n",
       "Albania                           1.0\n",
       "Algeria                           4.0\n",
       "Andorra                           0.0\n",
       "Antigua and Barbuda               0.0\n",
       "                                 ... \n",
       "Uruguay                           0.0\n",
       "Uzbekistan                        0.0\n",
       "Venezuela                         0.0\n",
       "Vietnam                           0.0\n",
       "occupied Palestinian territory    0.0\n",
       "Name: Deaths, Length: 147, dtype: float64"
      ]
     },
     "execution_count": 23,
     "metadata": {},
     "output_type": "execute_result"
    }
   ],
   "source": [
    "deaths_median"
   ]
  },
  {
   "cell_type": "code",
   "execution_count": 24,
   "metadata": {},
   "outputs": [
    {
     "data": {
      "text/plain": [
       "Country/Region\n",
       "Afghanistan                        0.0\n",
       "Albania                            0.0\n",
       "Algeria                           12.0\n",
       "Andorra                            1.0\n",
       "Antigua and Barbuda                0.0\n",
       "                                  ... \n",
       "Uruguay                            0.0\n",
       "Uzbekistan                         0.0\n",
       "Venezuela                          0.0\n",
       "Vietnam                           16.0\n",
       "occupied Palestinian territory     0.0\n",
       "Name: Recovered, Length: 147, dtype: float64"
      ]
     },
     "execution_count": 24,
     "metadata": {},
     "output_type": "execute_result"
    }
   ],
   "source": [
    "recovered_median"
   ]
  },
  {
   "cell_type": "code",
   "execution_count": 25,
   "metadata": {},
   "outputs": [],
   "source": [
    "#variance\n",
    "confirmed_variance= daily_report.groupby('Country/Region').var()['Confirmed']\n",
    "deaths_variance= daily_report.groupby('Country/Region').var()['Deaths']\n",
    "recovered_variance= daily_report.groupby('Country/Region').var()['Recovered']"
   ]
  },
  {
   "cell_type": "code",
   "execution_count": 26,
   "metadata": {},
   "outputs": [
    {
     "data": {
      "text/plain": [
       "Country/Region\n",
       "Afghanistan                      NaN\n",
       "Albania                          NaN\n",
       "Algeria                          NaN\n",
       "Andorra                          NaN\n",
       "Antigua and Barbuda              NaN\n",
       "                                  ..\n",
       "Uruguay                          NaN\n",
       "Uzbekistan                       NaN\n",
       "Venezuela                        NaN\n",
       "Vietnam                          NaN\n",
       "occupied Palestinian territory   NaN\n",
       "Name: Confirmed, Length: 147, dtype: float64"
      ]
     },
     "execution_count": 26,
     "metadata": {},
     "output_type": "execute_result"
    }
   ],
   "source": [
    "confirmed_variance"
   ]
  },
  {
   "cell_type": "code",
   "execution_count": 27,
   "metadata": {},
   "outputs": [
    {
     "data": {
      "text/plain": [
       "Country/Region\n",
       "Afghanistan                      NaN\n",
       "Albania                          NaN\n",
       "Algeria                          NaN\n",
       "Andorra                          NaN\n",
       "Antigua and Barbuda              NaN\n",
       "                                  ..\n",
       "Uruguay                          NaN\n",
       "Uzbekistan                       NaN\n",
       "Venezuela                        NaN\n",
       "Vietnam                          NaN\n",
       "occupied Palestinian territory   NaN\n",
       "Name: Deaths, Length: 147, dtype: float64"
      ]
     },
     "execution_count": 27,
     "metadata": {},
     "output_type": "execute_result"
    }
   ],
   "source": [
    "deaths_variance"
   ]
  },
  {
   "cell_type": "code",
   "execution_count": 28,
   "metadata": {},
   "outputs": [
    {
     "data": {
      "text/plain": [
       "Country/Region\n",
       "Afghanistan                      NaN\n",
       "Albania                          NaN\n",
       "Algeria                          NaN\n",
       "Andorra                          NaN\n",
       "Antigua and Barbuda              NaN\n",
       "                                  ..\n",
       "Uruguay                          NaN\n",
       "Uzbekistan                       NaN\n",
       "Venezuela                        NaN\n",
       "Vietnam                          NaN\n",
       "occupied Palestinian territory   NaN\n",
       "Name: Recovered, Length: 147, dtype: float64"
      ]
     },
     "execution_count": 28,
     "metadata": {},
     "output_type": "execute_result"
    }
   ],
   "source": [
    "recovered_variance"
   ]
  },
  {
   "cell_type": "code",
   "execution_count": 29,
   "metadata": {},
   "outputs": [
    {
     "data": {
      "text/plain": [
       "US            56\n",
       "China         33\n",
       "Canada         9\n",
       "Australia      9\n",
       "France         6\n",
       "              ..\n",
       "Hungary        1\n",
       "Bahrain        1\n",
       "Namibia        1\n",
       "Azerbaijan     1\n",
       "Bhutan         1\n",
       "Name: Country/Region, Length: 147, dtype: int64"
      ]
     },
     "execution_count": 29,
     "metadata": {},
     "output_type": "execute_result"
    }
   ],
   "source": [
    "#How many rows per country?\n",
    "country_count= daily_report['Country/Region'].value_counts()\n",
    "country_count"
   ]
  },
  {
   "cell_type": "code",
   "execution_count": 83,
   "metadata": {},
   "outputs": [
    {
     "data": {
      "text/plain": [
       "147"
      ]
     },
     "execution_count": 83,
     "metadata": {},
     "output_type": "execute_result"
    }
   ],
   "source": [
    "#How many unique countries?\n",
    "count=daily_report['Country/Region'].nunique()\n",
    "count"
   ]
  },
  {
   "cell_type": "code",
   "execution_count": 84,
   "metadata": {},
   "outputs": [
    {
     "data": {
      "text/plain": [
       "array(['China', 'Italy', 'Iran', 'Korea, South', 'Spain', 'Germany',\n",
       "       'France', 'Switzerland', 'Norway', 'United Kingdom', 'Netherlands',\n",
       "       'Sweden', 'Belgium', 'Denmark', 'Austria', 'Japan', 'US',\n",
       "       'Cruise Ship', 'Malaysia', 'Qatar', 'Portugal', 'Finland',\n",
       "       'Czechia', 'Greece', 'Singapore', 'Slovenia', 'Bahrain', 'Israel',\n",
       "       'Brazil', 'Iceland', 'Philippines', 'Estonia', 'Australia',\n",
       "       'Romania', 'Ireland', 'Poland', 'Indonesia', 'Thailand', 'India',\n",
       "       'Kuwait', 'Egypt', 'Iraq', 'Lebanon', 'Canada', 'Saudi Arabia',\n",
       "       'San Marino', 'United Arab Emirates', 'Russia', 'Chile',\n",
       "       'Luxembourg', 'Taiwan*', 'Vietnam', 'Slovakia', 'Pakistan',\n",
       "       'South Africa', 'Brunei', 'Croatia', 'Algeria', 'Serbia',\n",
       "       'Argentina', 'Bulgaria', 'Panama', 'Peru', 'Albania', 'Mexico',\n",
       "       'Colombia', 'Hungary', 'Georgia', 'Latvia', 'Ecuador', 'Morocco',\n",
       "       'Belarus', 'Costa Rica', 'Cyprus', 'Armenia',\n",
       "       'Bosnia and Herzegovina', 'Malta', 'Oman', 'Tunisia',\n",
       "       'Afghanistan', 'Azerbaijan', 'North Macedonia', 'Maldives',\n",
       "       'Lithuania', 'Moldova', 'Dominican Republic', 'Sri Lanka',\n",
       "       'Bolivia', 'Senegal', 'Martinique', 'Jamaica', 'Kazakhstan',\n",
       "       'New Zealand', 'Venezuela', 'Cambodia', 'Jordan', 'Reunion',\n",
       "       'Ghana', 'Paraguay', 'Turkey', 'Bangladesh', 'Cuba', 'Guyana',\n",
       "       'Liechtenstein', 'Uruguay', 'Honduras', 'Ukraine', 'Aruba',\n",
       "       'Burkina Faso', 'Cameroon', 'Congo (Kinshasa)', 'Jersey', 'Kosovo',\n",
       "       'Monaco', 'Namibia', 'Nigeria', 'Seychelles',\n",
       "       'Trinidad and Tobago', 'Andorra', 'Antigua and Barbuda', 'Bhutan',\n",
       "       'Cayman Islands', 'Central African Republic',\n",
       "       'Congo (Brazzaville)', \"Cote d'Ivoire\", 'Curacao',\n",
       "       'Equatorial Guinea', 'Eswatini', 'Ethiopia', 'Gabon', 'Guadeloupe',\n",
       "       'Guatemala', 'Guernsey', 'Guinea', 'Holy See', 'Kenya',\n",
       "       'Mauritania', 'Mongolia', 'Nepal', 'Rwanda', 'Saint Lucia',\n",
       "       'Saint Vincent and the Grenadines', 'Sudan', 'Suriname', 'Togo',\n",
       "       'Uzbekistan', 'occupied Palestinian territory'], dtype=object)"
      ]
     },
     "execution_count": 84,
     "metadata": {},
     "output_type": "execute_result"
    }
   ],
   "source": [
    "country_list=daily_report['Country/Region'].unique()\n",
    "country_list"
   ]
  },
  {
   "cell_type": "code",
   "execution_count": 32,
   "metadata": {},
   "outputs": [
    {
     "data": {
      "text/plain": [
       "Country/Region\n",
       "Afghanistan                  NaN\n",
       "Albania                      NaN\n",
       "Algeria                      NaN\n",
       "Andorra                      NaN\n",
       "Antigua and Barbuda          NaN\n",
       "Argentina                    NaN\n",
       "Armenia                      NaN\n",
       "Aruba                        NaN\n",
       "Australia              44.514043\n",
       "Austria                      NaN\n",
       "Azerbaijan                   NaN\n",
       "Bahrain                      NaN\n",
       "Bangladesh                   NaN\n",
       "Belarus                      NaN\n",
       "Belgium                      NaN\n",
       "Name: Confirmed, dtype: float64"
      ]
     },
     "execution_count": 32,
     "metadata": {},
     "output_type": "execute_result"
    }
   ],
   "source": [
    "#standard deviation\n",
    "confirmed_std=daily_report.groupby('Country/Region').std()['Confirmed']\n",
    "deaths_std=daily_report.groupby('Country/Region').std()['Deaths']\n",
    "recovered_std=daily_report.groupby('Country/Region').std()['Recovered']\n",
    "\n",
    "confirmed_std.head(15)"
   ]
  },
  {
   "cell_type": "code",
   "execution_count": 33,
   "metadata": {},
   "outputs": [
    {
     "data": {
      "text/plain": [
       "Country/Region\n",
       "Afghanistan                      NaN\n",
       "Albania                          NaN\n",
       "Algeria                          NaN\n",
       "Andorra                          NaN\n",
       "Antigua and Barbuda              NaN\n",
       "                                  ..\n",
       "Uruguay                          NaN\n",
       "Uzbekistan                       NaN\n",
       "Venezuela                        NaN\n",
       "Vietnam                          NaN\n",
       "occupied Palestinian territory   NaN\n",
       "Name: Deaths, Length: 147, dtype: float64"
      ]
     },
     "execution_count": 33,
     "metadata": {},
     "output_type": "execute_result"
    }
   ],
   "source": [
    "deaths_std"
   ]
  },
  {
   "cell_type": "code",
   "execution_count": 34,
   "metadata": {},
   "outputs": [
    {
     "data": {
      "text/plain": [
       "Country/Region\n",
       "Afghanistan                      NaN\n",
       "Albania                          NaN\n",
       "Algeria                          NaN\n",
       "Andorra                          NaN\n",
       "Antigua and Barbuda              NaN\n",
       "                                  ..\n",
       "Uruguay                          NaN\n",
       "Uzbekistan                       NaN\n",
       "Venezuela                        NaN\n",
       "Vietnam                          NaN\n",
       "occupied Palestinian territory   NaN\n",
       "Name: Recovered, Length: 147, dtype: float64"
      ]
     },
     "execution_count": 34,
     "metadata": {},
     "output_type": "execute_result"
    }
   ],
   "source": [
    "recovered_std"
   ]
  },
  {
   "cell_type": "code",
   "execution_count": 35,
   "metadata": {},
   "outputs": [
    {
     "data": {
      "text/plain": [
       "Country/Region\n",
       "Afghanistan           NaN\n",
       "Albania               NaN\n",
       "Algeria               NaN\n",
       "Andorra               NaN\n",
       "Antigua and Barbuda   NaN\n",
       "Name: Confirmed, dtype: float64"
      ]
     },
     "execution_count": 35,
     "metadata": {},
     "output_type": "execute_result"
    }
   ],
   "source": [
    "#SEM\n",
    "confirmed_sem=daily_report.groupby('Country/Region').sem()['Confirmed']\n",
    "deaths_sem=daily_report.groupby('Country/Region').sem()['Deaths']\n",
    "recovered_sem=daily_report.groupby('Country/Region').sem()['Recovered']\n",
    "\n",
    "confirmed_sem.head()"
   ]
  },
  {
   "cell_type": "code",
   "execution_count": 37,
   "metadata": {},
   "outputs": [
    {
     "data": {
      "text/plain": [
       "Country/Region\n",
       "Afghanistan           NaN\n",
       "Albania               NaN\n",
       "Algeria               NaN\n",
       "Andorra               NaN\n",
       "Antigua and Barbuda   NaN\n",
       "Name: Deaths, dtype: float64"
      ]
     },
     "execution_count": 37,
     "metadata": {},
     "output_type": "execute_result"
    }
   ],
   "source": [
    "deaths_sem.head()"
   ]
  },
  {
   "cell_type": "code",
   "execution_count": 38,
   "metadata": {},
   "outputs": [
    {
     "data": {
      "text/plain": [
       "Country/Region\n",
       "Afghanistan           NaN\n",
       "Albania               NaN\n",
       "Algeria               NaN\n",
       "Andorra               NaN\n",
       "Antigua and Barbuda   NaN\n",
       "Name: Recovered, dtype: float64"
      ]
     },
     "execution_count": 38,
     "metadata": {},
     "output_type": "execute_result"
    }
   ],
   "source": [
    "recovered_sem.head()"
   ]
  },
  {
   "cell_type": "code",
   "execution_count": 47,
   "metadata": {},
   "outputs": [
    {
     "data": {
      "text/html": [
       "<div>\n",
       "<style scoped>\n",
       "    .dataframe tbody tr th:only-of-type {\n",
       "        vertical-align: middle;\n",
       "    }\n",
       "\n",
       "    .dataframe tbody tr th {\n",
       "        vertical-align: top;\n",
       "    }\n",
       "\n",
       "    .dataframe thead th {\n",
       "        text-align: right;\n",
       "    }\n",
       "</style>\n",
       "<table border=\"1\" class=\"dataframe\">\n",
       "  <thead>\n",
       "    <tr style=\"text-align: right;\">\n",
       "      <th></th>\n",
       "      <th>Number of Confirmed Cases</th>\n",
       "      <th>Mean</th>\n",
       "      <th>Median</th>\n",
       "      <th>Variance</th>\n",
       "      <th>Standard Deviation</th>\n",
       "      <th>SEM</th>\n",
       "    </tr>\n",
       "    <tr>\n",
       "      <th>Country/Region</th>\n",
       "      <th></th>\n",
       "      <th></th>\n",
       "      <th></th>\n",
       "      <th></th>\n",
       "      <th></th>\n",
       "      <th></th>\n",
       "    </tr>\n",
       "  </thead>\n",
       "  <tbody>\n",
       "    <tr>\n",
       "      <th>Afghanistan</th>\n",
       "      <td>16</td>\n",
       "      <td>16.0</td>\n",
       "      <td>16.0</td>\n",
       "      <td>NaN</td>\n",
       "      <td>NaN</td>\n",
       "      <td>NaN</td>\n",
       "    </tr>\n",
       "    <tr>\n",
       "      <th>Albania</th>\n",
       "      <td>42</td>\n",
       "      <td>42.0</td>\n",
       "      <td>42.0</td>\n",
       "      <td>NaN</td>\n",
       "      <td>NaN</td>\n",
       "      <td>NaN</td>\n",
       "    </tr>\n",
       "    <tr>\n",
       "      <th>Algeria</th>\n",
       "      <td>48</td>\n",
       "      <td>48.0</td>\n",
       "      <td>48.0</td>\n",
       "      <td>NaN</td>\n",
       "      <td>NaN</td>\n",
       "      <td>NaN</td>\n",
       "    </tr>\n",
       "    <tr>\n",
       "      <th>Andorra</th>\n",
       "      <td>1</td>\n",
       "      <td>1.0</td>\n",
       "      <td>1.0</td>\n",
       "      <td>NaN</td>\n",
       "      <td>NaN</td>\n",
       "      <td>NaN</td>\n",
       "    </tr>\n",
       "    <tr>\n",
       "      <th>Antigua and Barbuda</th>\n",
       "      <td>1</td>\n",
       "      <td>1.0</td>\n",
       "      <td>1.0</td>\n",
       "      <td>NaN</td>\n",
       "      <td>NaN</td>\n",
       "      <td>NaN</td>\n",
       "    </tr>\n",
       "  </tbody>\n",
       "</table>\n",
       "</div>"
      ],
      "text/plain": [
       "                     Number of Confirmed Cases  Mean  Median  Variance  \\\n",
       "Country/Region                                                           \n",
       "Afghanistan                                 16  16.0    16.0       NaN   \n",
       "Albania                                     42  42.0    42.0       NaN   \n",
       "Algeria                                     48  48.0    48.0       NaN   \n",
       "Andorra                                      1   1.0     1.0       NaN   \n",
       "Antigua and Barbuda                          1   1.0     1.0       NaN   \n",
       "\n",
       "                     Standard Deviation  SEM  \n",
       "Country/Region                                \n",
       "Afghanistan                         NaN  NaN  \n",
       "Albania                             NaN  NaN  \n",
       "Algeria                             NaN  NaN  \n",
       "Andorra                             NaN  NaN  \n",
       "Antigua and Barbuda                 NaN  NaN  "
      ]
     },
     "execution_count": 47,
     "metadata": {},
     "output_type": "execute_result"
    }
   ],
   "source": [
    "#combine results into summary statistics table (1 table for confirmed, 1 for deaths, 1 for recovered)\n",
    "summary_stat_confirmed=pd.DataFrame({'Number of Confirmed Cases': confirmed_sum, 'Mean': confirmed_mean, 'Median': confirmed_median, 'Variance': confirmed_variance, 'Standard Deviation': confirmed_std, 'SEM': confirmed_sem})\n",
    "\n",
    "summary_stat_confirmed.head()"
   ]
  },
  {
   "cell_type": "code",
   "execution_count": 48,
   "metadata": {},
   "outputs": [
    {
     "data": {
      "text/html": [
       "<div>\n",
       "<style scoped>\n",
       "    .dataframe tbody tr th:only-of-type {\n",
       "        vertical-align: middle;\n",
       "    }\n",
       "\n",
       "    .dataframe tbody tr th {\n",
       "        vertical-align: top;\n",
       "    }\n",
       "\n",
       "    .dataframe thead th {\n",
       "        text-align: right;\n",
       "    }\n",
       "</style>\n",
       "<table border=\"1\" class=\"dataframe\">\n",
       "  <thead>\n",
       "    <tr style=\"text-align: right;\">\n",
       "      <th></th>\n",
       "      <th>Number of Deaths</th>\n",
       "      <th>Mean</th>\n",
       "      <th>Median</th>\n",
       "      <th>Variance</th>\n",
       "      <th>Standard Deviation</th>\n",
       "      <th>SEM</th>\n",
       "    </tr>\n",
       "    <tr>\n",
       "      <th>Country/Region</th>\n",
       "      <th></th>\n",
       "      <th></th>\n",
       "      <th></th>\n",
       "      <th></th>\n",
       "      <th></th>\n",
       "      <th></th>\n",
       "    </tr>\n",
       "  </thead>\n",
       "  <tbody>\n",
       "    <tr>\n",
       "      <th>Afghanistan</th>\n",
       "      <td>0</td>\n",
       "      <td>0.0</td>\n",
       "      <td>0.0</td>\n",
       "      <td>NaN</td>\n",
       "      <td>NaN</td>\n",
       "      <td>NaN</td>\n",
       "    </tr>\n",
       "    <tr>\n",
       "      <th>Albania</th>\n",
       "      <td>1</td>\n",
       "      <td>1.0</td>\n",
       "      <td>1.0</td>\n",
       "      <td>NaN</td>\n",
       "      <td>NaN</td>\n",
       "      <td>NaN</td>\n",
       "    </tr>\n",
       "    <tr>\n",
       "      <th>Algeria</th>\n",
       "      <td>4</td>\n",
       "      <td>4.0</td>\n",
       "      <td>4.0</td>\n",
       "      <td>NaN</td>\n",
       "      <td>NaN</td>\n",
       "      <td>NaN</td>\n",
       "    </tr>\n",
       "    <tr>\n",
       "      <th>Andorra</th>\n",
       "      <td>0</td>\n",
       "      <td>0.0</td>\n",
       "      <td>0.0</td>\n",
       "      <td>NaN</td>\n",
       "      <td>NaN</td>\n",
       "      <td>NaN</td>\n",
       "    </tr>\n",
       "    <tr>\n",
       "      <th>Antigua and Barbuda</th>\n",
       "      <td>0</td>\n",
       "      <td>0.0</td>\n",
       "      <td>0.0</td>\n",
       "      <td>NaN</td>\n",
       "      <td>NaN</td>\n",
       "      <td>NaN</td>\n",
       "    </tr>\n",
       "  </tbody>\n",
       "</table>\n",
       "</div>"
      ],
      "text/plain": [
       "                     Number of Deaths  Mean  Median  Variance  \\\n",
       "Country/Region                                                  \n",
       "Afghanistan                         0   0.0     0.0       NaN   \n",
       "Albania                             1   1.0     1.0       NaN   \n",
       "Algeria                             4   4.0     4.0       NaN   \n",
       "Andorra                             0   0.0     0.0       NaN   \n",
       "Antigua and Barbuda                 0   0.0     0.0       NaN   \n",
       "\n",
       "                     Standard Deviation  SEM  \n",
       "Country/Region                                \n",
       "Afghanistan                         NaN  NaN  \n",
       "Albania                             NaN  NaN  \n",
       "Algeria                             NaN  NaN  \n",
       "Andorra                             NaN  NaN  \n",
       "Antigua and Barbuda                 NaN  NaN  "
      ]
     },
     "execution_count": 48,
     "metadata": {},
     "output_type": "execute_result"
    }
   ],
   "source": [
    "summary_stat_deaths=pd.DataFrame({'Number of Deaths': deaths_sum, 'Mean': deaths_mean, 'Median': deaths_median, 'Variance': deaths_variance, 'Standard Deviation': deaths_std, 'SEM': deaths_sem})\n",
    "\n",
    "summary_stat_deaths.head()"
   ]
  },
  {
   "cell_type": "code",
   "execution_count": 49,
   "metadata": {},
   "outputs": [
    {
     "data": {
      "text/html": [
       "<div>\n",
       "<style scoped>\n",
       "    .dataframe tbody tr th:only-of-type {\n",
       "        vertical-align: middle;\n",
       "    }\n",
       "\n",
       "    .dataframe tbody tr th {\n",
       "        vertical-align: top;\n",
       "    }\n",
       "\n",
       "    .dataframe thead th {\n",
       "        text-align: right;\n",
       "    }\n",
       "</style>\n",
       "<table border=\"1\" class=\"dataframe\">\n",
       "  <thead>\n",
       "    <tr style=\"text-align: right;\">\n",
       "      <th></th>\n",
       "      <th>Number of Recovered Cases</th>\n",
       "      <th>Mean</th>\n",
       "      <th>Median</th>\n",
       "      <th>Variance</th>\n",
       "      <th>Standard Deviation</th>\n",
       "      <th>SEM</th>\n",
       "    </tr>\n",
       "    <tr>\n",
       "      <th>Country/Region</th>\n",
       "      <th></th>\n",
       "      <th></th>\n",
       "      <th></th>\n",
       "      <th></th>\n",
       "      <th></th>\n",
       "      <th></th>\n",
       "    </tr>\n",
       "  </thead>\n",
       "  <tbody>\n",
       "    <tr>\n",
       "      <th>Afghanistan</th>\n",
       "      <td>0</td>\n",
       "      <td>0.0</td>\n",
       "      <td>0.0</td>\n",
       "      <td>NaN</td>\n",
       "      <td>NaN</td>\n",
       "      <td>NaN</td>\n",
       "    </tr>\n",
       "    <tr>\n",
       "      <th>Albania</th>\n",
       "      <td>0</td>\n",
       "      <td>0.0</td>\n",
       "      <td>0.0</td>\n",
       "      <td>NaN</td>\n",
       "      <td>NaN</td>\n",
       "      <td>NaN</td>\n",
       "    </tr>\n",
       "    <tr>\n",
       "      <th>Algeria</th>\n",
       "      <td>12</td>\n",
       "      <td>12.0</td>\n",
       "      <td>12.0</td>\n",
       "      <td>NaN</td>\n",
       "      <td>NaN</td>\n",
       "      <td>NaN</td>\n",
       "    </tr>\n",
       "    <tr>\n",
       "      <th>Andorra</th>\n",
       "      <td>1</td>\n",
       "      <td>1.0</td>\n",
       "      <td>1.0</td>\n",
       "      <td>NaN</td>\n",
       "      <td>NaN</td>\n",
       "      <td>NaN</td>\n",
       "    </tr>\n",
       "    <tr>\n",
       "      <th>Antigua and Barbuda</th>\n",
       "      <td>0</td>\n",
       "      <td>0.0</td>\n",
       "      <td>0.0</td>\n",
       "      <td>NaN</td>\n",
       "      <td>NaN</td>\n",
       "      <td>NaN</td>\n",
       "    </tr>\n",
       "  </tbody>\n",
       "</table>\n",
       "</div>"
      ],
      "text/plain": [
       "                     Number of Recovered Cases  Mean  Median  Variance  \\\n",
       "Country/Region                                                           \n",
       "Afghanistan                                  0   0.0     0.0       NaN   \n",
       "Albania                                      0   0.0     0.0       NaN   \n",
       "Algeria                                     12  12.0    12.0       NaN   \n",
       "Andorra                                      1   1.0     1.0       NaN   \n",
       "Antigua and Barbuda                          0   0.0     0.0       NaN   \n",
       "\n",
       "                     Standard Deviation  SEM  \n",
       "Country/Region                                \n",
       "Afghanistan                         NaN  NaN  \n",
       "Albania                             NaN  NaN  \n",
       "Algeria                             NaN  NaN  \n",
       "Andorra                             NaN  NaN  \n",
       "Antigua and Barbuda                 NaN  NaN  "
      ]
     },
     "execution_count": 49,
     "metadata": {},
     "output_type": "execute_result"
    }
   ],
   "source": [
    "summary_stat_recovered=pd.DataFrame({'Number of Recovered Cases': recovered_sum, 'Mean': recovered_mean, 'Median': recovered_median, 'Variance': recovered_variance, 'Standard Deviation': recovered_std, 'SEM': recovered_sem})\n",
    "\n",
    "summary_stat_recovered.head()"
   ]
  },
  {
   "cell_type": "code",
   "execution_count": 93,
   "metadata": {},
   "outputs": [
    {
     "data": {
      "text/html": [
       "<div>\n",
       "<style scoped>\n",
       "    .dataframe tbody tr th:only-of-type {\n",
       "        vertical-align: middle;\n",
       "    }\n",
       "\n",
       "    .dataframe tbody tr th {\n",
       "        vertical-align: top;\n",
       "    }\n",
       "\n",
       "    .dataframe thead th {\n",
       "        text-align: right;\n",
       "    }\n",
       "</style>\n",
       "<table border=\"1\" class=\"dataframe\">\n",
       "  <thead>\n",
       "    <tr style=\"text-align: right;\">\n",
       "      <th></th>\n",
       "      <th>Number of Confirmed Cases</th>\n",
       "      <th>Number of Deaths</th>\n",
       "      <th>Number of Recovered Cases</th>\n",
       "    </tr>\n",
       "    <tr>\n",
       "      <th>Country/Region</th>\n",
       "      <th></th>\n",
       "      <th></th>\n",
       "      <th></th>\n",
       "    </tr>\n",
       "  </thead>\n",
       "  <tbody>\n",
       "    <tr>\n",
       "      <th>Afghanistan</th>\n",
       "      <td>16</td>\n",
       "      <td>0</td>\n",
       "      <td>0</td>\n",
       "    </tr>\n",
       "    <tr>\n",
       "      <th>Albania</th>\n",
       "      <td>42</td>\n",
       "      <td>1</td>\n",
       "      <td>0</td>\n",
       "    </tr>\n",
       "    <tr>\n",
       "      <th>Algeria</th>\n",
       "      <td>48</td>\n",
       "      <td>4</td>\n",
       "      <td>12</td>\n",
       "    </tr>\n",
       "    <tr>\n",
       "      <th>Andorra</th>\n",
       "      <td>1</td>\n",
       "      <td>0</td>\n",
       "      <td>1</td>\n",
       "    </tr>\n",
       "    <tr>\n",
       "      <th>Antigua and Barbuda</th>\n",
       "      <td>1</td>\n",
       "      <td>0</td>\n",
       "      <td>0</td>\n",
       "    </tr>\n",
       "  </tbody>\n",
       "</table>\n",
       "</div>"
      ],
      "text/plain": [
       "                     Number of Confirmed Cases  Number of Deaths  \\\n",
       "Country/Region                                                     \n",
       "Afghanistan                                 16                 0   \n",
       "Albania                                     42                 1   \n",
       "Algeria                                     48                 4   \n",
       "Andorra                                      1                 0   \n",
       "Antigua and Barbuda                          1                 0   \n",
       "\n",
       "                     Number of Recovered Cases  \n",
       "Country/Region                                  \n",
       "Afghanistan                                  0  \n",
       "Albania                                      0  \n",
       "Algeria                                     12  \n",
       "Andorra                                      1  \n",
       "Antigua and Barbuda                          0  "
      ]
     },
     "execution_count": 93,
     "metadata": {},
     "output_type": "execute_result"
    }
   ],
   "source": [
    "counts_by_country=pd.DataFrame({'Number of Confirmed Cases': confirmed_sum, 'Number of Deaths': deaths_sum, 'Number of Recovered Cases': recovered_sum})\n",
    "counts_by_country.head()"
   ]
  },
  {
   "cell_type": "code",
   "execution_count": 54,
   "metadata": {},
   "outputs": [
    {
     "data": {
      "text/plain": [
       "167447"
      ]
     },
     "execution_count": 54,
     "metadata": {},
     "output_type": "execute_result"
    }
   ],
   "source": [
    "total_confirmed=counts_by_country['Number of Confirmed Cases'].sum()\n",
    "total_confirmed"
   ]
  },
  {
   "cell_type": "code",
   "execution_count": 55,
   "metadata": {},
   "outputs": [
    {
     "data": {
      "text/plain": [
       "6440"
      ]
     },
     "execution_count": 55,
     "metadata": {},
     "output_type": "execute_result"
    }
   ],
   "source": [
    "total_deaths=counts_by_country['Number of Deaths'].sum()\n",
    "total_deaths"
   ]
  },
  {
   "cell_type": "code",
   "execution_count": 56,
   "metadata": {},
   "outputs": [
    {
     "data": {
      "text/plain": [
       "76034"
      ]
     },
     "execution_count": 56,
     "metadata": {},
     "output_type": "execute_result"
    }
   ],
   "source": [
    "total_recovered=counts_by_country['Number of Recovered Cases'].sum()\n",
    "total_recovered"
   ]
  },
  {
   "cell_type": "code",
   "execution_count": null,
   "metadata": {},
   "outputs": [],
   "source": []
  },
  {
   "cell_type": "code",
   "execution_count": 66,
   "metadata": {},
   "outputs": [],
   "source": [
    "world_wide_possible_outcomes=[\"Deaths\", \"Recovered Cases\"]\n",
    "outcome_totals=[6440, 76034]\n"
   ]
  },
  {
   "cell_type": "code",
   "execution_count": null,
   "metadata": {},
   "outputs": [],
   "source": [
    "#Questions: 1. what percentage of confirmed cases resulted in death, recovery 2. Are there differences in percent recovered \n",
    "#in the 3-5 most affected countries"
   ]
  },
  {
   "cell_type": "code",
   "execution_count": 92,
   "metadata": {},
   "outputs": [
    {
     "data": {
      "text/plain": [
       "Text(0, 0.5, '')"
      ]
     },
     "execution_count": 92,
     "metadata": {},
     "output_type": "execute_result"
    },
    {
     "data": {
      "image/png": "[encoded data removed]",
      "text/plain": [
       "<Figure size 360x360 with 1 Axes>"
      ]
     },
     "metadata": {},
     "output_type": "display_data"
    }
   ],
   "source": [
    "colors=[\"red\", \"green\"]\n",
    "explod=(0.10,0)\n",
    "counts_by_country_py=pd.DataFrame({'Number of Confirmed Cases': [6440, 76034],},\n",
    "                  index=[\"Total Deaths\", \"Total Recovered Cases\"])\n",
    "plot = counts_by_country_py.plot.pie(y= 'Number of Confirmed Cases', explode=explode, colors=colors, figsize=(5, 5), autopct=\"%1.1f%%\", shadow=True, startangle=90)\n",
    "plt.title(\"Distribution of Deaths vs. Recovered Cases Worldwide\")\n",
    "plot.set_ylabel('')"
   ]
  },
  {
   "cell_type": "code",
   "execution_count": 103,
   "metadata": {},
   "outputs": [
    {
     "data": {
      "text/html": [
       "<div>\n",
       "<style scoped>\n",
       "    .dataframe tbody tr th:only-of-type {\n",
       "        vertical-align: middle;\n",
       "    }\n",
       "\n",
       "    .dataframe tbody tr th {\n",
       "        vertical-align: top;\n",
       "    }\n",
       "\n",
       "    .dataframe thead th {\n",
       "        text-align: right;\n",
       "    }\n",
       "</style>\n",
       "<table border=\"1\" class=\"dataframe\">\n",
       "  <thead>\n",
       "    <tr style=\"text-align: right;\">\n",
       "      <th></th>\n",
       "      <th>Number of Confirmed Cases</th>\n",
       "      <th>Number of Deaths</th>\n",
       "      <th>Number of Recovered Cases</th>\n",
       "    </tr>\n",
       "    <tr>\n",
       "      <th>Country/Region</th>\n",
       "      <th></th>\n",
       "      <th></th>\n",
       "      <th></th>\n",
       "    </tr>\n",
       "  </thead>\n",
       "  <tbody>\n",
       "    <tr>\n",
       "      <th>China</th>\n",
       "      <td>81003</td>\n",
       "      <td>3203</td>\n",
       "      <td>67017</td>\n",
       "    </tr>\n",
       "    <tr>\n",
       "      <th>Italy</th>\n",
       "      <td>24747</td>\n",
       "      <td>1809</td>\n",
       "      <td>2335</td>\n",
       "    </tr>\n",
       "    <tr>\n",
       "      <th>Iran</th>\n",
       "      <td>13938</td>\n",
       "      <td>724</td>\n",
       "      <td>4590</td>\n",
       "    </tr>\n",
       "    <tr>\n",
       "      <th>Korea, South</th>\n",
       "      <td>8162</td>\n",
       "      <td>75</td>\n",
       "      <td>510</td>\n",
       "    </tr>\n",
       "    <tr>\n",
       "      <th>Spain</th>\n",
       "      <td>7798</td>\n",
       "      <td>289</td>\n",
       "      <td>517</td>\n",
       "    </tr>\n",
       "    <tr>\n",
       "      <th>Germany</th>\n",
       "      <td>5795</td>\n",
       "      <td>11</td>\n",
       "      <td>46</td>\n",
       "    </tr>\n",
       "    <tr>\n",
       "      <th>France</th>\n",
       "      <td>4513</td>\n",
       "      <td>91</td>\n",
       "      <td>12</td>\n",
       "    </tr>\n",
       "    <tr>\n",
       "      <th>US</th>\n",
       "      <td>3499</td>\n",
       "      <td>63</td>\n",
       "      <td>12</td>\n",
       "    </tr>\n",
       "    <tr>\n",
       "      <th>Switzerland</th>\n",
       "      <td>2200</td>\n",
       "      <td>14</td>\n",
       "      <td>4</td>\n",
       "    </tr>\n",
       "    <tr>\n",
       "      <th>Norway</th>\n",
       "      <td>1221</td>\n",
       "      <td>3</td>\n",
       "      <td>1</td>\n",
       "    </tr>\n",
       "    <tr>\n",
       "      <th>United Kingdom</th>\n",
       "      <td>1144</td>\n",
       "      <td>21</td>\n",
       "      <td>19</td>\n",
       "    </tr>\n",
       "    <tr>\n",
       "      <th>Netherlands</th>\n",
       "      <td>1135</td>\n",
       "      <td>20</td>\n",
       "      <td>2</td>\n",
       "    </tr>\n",
       "    <tr>\n",
       "      <th>Sweden</th>\n",
       "      <td>1022</td>\n",
       "      <td>3</td>\n",
       "      <td>1</td>\n",
       "    </tr>\n",
       "    <tr>\n",
       "      <th>Belgium</th>\n",
       "      <td>886</td>\n",
       "      <td>4</td>\n",
       "      <td>1</td>\n",
       "    </tr>\n",
       "    <tr>\n",
       "      <th>Denmark</th>\n",
       "      <td>875</td>\n",
       "      <td>2</td>\n",
       "      <td>1</td>\n",
       "    </tr>\n",
       "    <tr>\n",
       "      <th>Austria</th>\n",
       "      <td>860</td>\n",
       "      <td>1</td>\n",
       "      <td>6</td>\n",
       "    </tr>\n",
       "    <tr>\n",
       "      <th>Japan</th>\n",
       "      <td>839</td>\n",
       "      <td>22</td>\n",
       "      <td>118</td>\n",
       "    </tr>\n",
       "    <tr>\n",
       "      <th>Cruise Ship</th>\n",
       "      <td>696</td>\n",
       "      <td>7</td>\n",
       "      <td>325</td>\n",
       "    </tr>\n",
       "    <tr>\n",
       "      <th>Malaysia</th>\n",
       "      <td>428</td>\n",
       "      <td>0</td>\n",
       "      <td>42</td>\n",
       "    </tr>\n",
       "    <tr>\n",
       "      <th>Qatar</th>\n",
       "      <td>401</td>\n",
       "      <td>0</td>\n",
       "      <td>4</td>\n",
       "    </tr>\n",
       "    <tr>\n",
       "      <th>Greece</th>\n",
       "      <td>331</td>\n",
       "      <td>4</td>\n",
       "      <td>8</td>\n",
       "    </tr>\n",
       "  </tbody>\n",
       "</table>\n",
       "</div>"
      ],
      "text/plain": [
       "                Number of Confirmed Cases  Number of Deaths  \\\n",
       "Country/Region                                                \n",
       "China                               81003              3203   \n",
       "Italy                               24747              1809   \n",
       "Iran                                13938               724   \n",
       "Korea, South                         8162                75   \n",
       "Spain                                7798               289   \n",
       "Germany                              5795                11   \n",
       "France                               4513                91   \n",
       "US                                   3499                63   \n",
       "Switzerland                          2200                14   \n",
       "Norway                               1221                 3   \n",
       "United Kingdom                       1144                21   \n",
       "Netherlands                          1135                20   \n",
       "Sweden                               1022                 3   \n",
       "Belgium                               886                 4   \n",
       "Denmark                               875                 2   \n",
       "Austria                               860                 1   \n",
       "Japan                                 839                22   \n",
       "Cruise Ship                           696                 7   \n",
       "Malaysia                              428                 0   \n",
       "Qatar                                 401                 0   \n",
       "Greece                                331                 4   \n",
       "\n",
       "                Number of Recovered Cases  \n",
       "Country/Region                             \n",
       "China                               67017  \n",
       "Italy                                2335  \n",
       "Iran                                 4590  \n",
       "Korea, South                          510  \n",
       "Spain                                 517  \n",
       "Germany                                46  \n",
       "France                                 12  \n",
       "US                                     12  \n",
       "Switzerland                             4  \n",
       "Norway                                  1  \n",
       "United Kingdom                         19  \n",
       "Netherlands                             2  \n",
       "Sweden                                  1  \n",
       "Belgium                                 1  \n",
       "Denmark                                 1  \n",
       "Austria                                 6  \n",
       "Japan                                 118  \n",
       "Cruise Ship                           325  \n",
       "Malaysia                               42  \n",
       "Qatar                                   4  \n",
       "Greece                                  8  "
      ]
     },
     "execution_count": 103,
     "metadata": {},
     "output_type": "execute_result"
    }
   ],
   "source": [
    "#Find the 20 countries with the greatest number of confirmed cases\n",
    "top_20_confirmed=counts_by_country.nlargest(21, ['Number of Confirmed Cases'])\n",
    "top_20_confirmed.head(21)\n"
   ]
  },
  {
   "cell_type": "code",
   "execution_count": 123,
   "metadata": {},
   "outputs": [
    {
     "data": {
      "image/png": "[encoded data removed]",
      "text/plain": [
       "<Figure size 1440x576 with 1 Axes>"
      ]
     },
     "metadata": {
      "needs_background": "light"
     },
     "output_type": "display_data"
    }
   ],
   "source": [
    "#Top 20 bar chart\n",
    "confirmed=[81003, 24747, 13938, 8162, 7798, 5795, 4513, 3499, 2200, 1221, 1144, 1135, 1022, 886, 875, 860, 839, 428, 401, 331]\n",
    "deaths=[3203, 1809, 724, 75, 289, 11, 91, 63,14, 3, 21, 20, 3, 4, 2, 1, 22, 0, 0, 4]\n",
    "recovered=[67017, 2335, 4590, 510, 517, 46, 12, 12, 4, 1, 19, 2, 1, 1, 1, 6, 118, 325, 42, 4]\n",
    "index=['China', 'Italy', 'Iran', 'South Korea', 'Spain', 'Germany', 'France', 'US','Switzerland', 'Norway', 'United Kingdom', 'Netherlands', 'Sweden', 'Belgium', 'Denmark', 'Austria', 'Japan', 'Malaysia', 'Qatar', 'Greece']\n",
    "df = pd.DataFrame({'Confirmed': confirmed,\n",
    "                   'Deaths': deaths, 'Recovered': recovered}, index=index)\n",
    "fig_size = plt.rcParams[\"figure.figsize\"]\n",
    "fig_size[0] = 20\n",
    "fig_size[1] = 8\n",
    "plt.rcParams[\"figure.figsize\"] = fig_size\n",
    "ax = df.plot.bar(rot=0)\n",
    "#index = top_20_confirmed.index.values.tolist()\n",
    "#index"
   ]
  },
  {
   "cell_type": "code",
   "execution_count": 125,
   "metadata": {},
   "outputs": [
    {
     "data": {
      "text/html": [
       "<div>\n",
       "<style scoped>\n",
       "    .dataframe tbody tr th:only-of-type {\n",
       "        vertical-align: middle;\n",
       "    }\n",
       "\n",
       "    .dataframe tbody tr th {\n",
       "        vertical-align: top;\n",
       "    }\n",
       "\n",
       "    .dataframe thead th {\n",
       "        text-align: right;\n",
       "    }\n",
       "</style>\n",
       "<table border=\"1\" class=\"dataframe\">\n",
       "  <thead>\n",
       "    <tr style=\"text-align: right;\">\n",
       "      <th></th>\n",
       "      <th>Number of Confirmed Cases</th>\n",
       "      <th>Number of Deaths</th>\n",
       "      <th>Number of Recovered Cases</th>\n",
       "    </tr>\n",
       "    <tr>\n",
       "      <th>Country/Region</th>\n",
       "      <th></th>\n",
       "      <th></th>\n",
       "      <th></th>\n",
       "    </tr>\n",
       "  </thead>\n",
       "  <tbody>\n",
       "    <tr>\n",
       "      <th>China</th>\n",
       "      <td>81003</td>\n",
       "      <td>3203</td>\n",
       "      <td>67017</td>\n",
       "    </tr>\n",
       "    <tr>\n",
       "      <th>Italy</th>\n",
       "      <td>24747</td>\n",
       "      <td>1809</td>\n",
       "      <td>2335</td>\n",
       "    </tr>\n",
       "    <tr>\n",
       "      <th>Iran</th>\n",
       "      <td>13938</td>\n",
       "      <td>724</td>\n",
       "      <td>4590</td>\n",
       "    </tr>\n",
       "    <tr>\n",
       "      <th>Korea, South</th>\n",
       "      <td>8162</td>\n",
       "      <td>75</td>\n",
       "      <td>510</td>\n",
       "    </tr>\n",
       "    <tr>\n",
       "      <th>Spain</th>\n",
       "      <td>7798</td>\n",
       "      <td>289</td>\n",
       "      <td>517</td>\n",
       "    </tr>\n",
       "  </tbody>\n",
       "</table>\n",
       "</div>"
      ],
      "text/plain": [
       "                Number of Confirmed Cases  Number of Deaths  \\\n",
       "Country/Region                                                \n",
       "China                               81003              3203   \n",
       "Italy                               24747              1809   \n",
       "Iran                                13938               724   \n",
       "Korea, South                         8162                75   \n",
       "Spain                                7798               289   \n",
       "\n",
       "                Number of Recovered Cases  \n",
       "Country/Region                             \n",
       "China                               67017  \n",
       "Italy                                2335  \n",
       "Iran                                 4590  \n",
       "Korea, South                          510  \n",
       "Spain                                 517  "
      ]
     },
     "execution_count": 125,
     "metadata": {},
     "output_type": "execute_result"
    }
   ],
   "source": [
    "#top 5 dataframe\n",
    "top_5_confirmed=counts_by_country.nlargest(5, ['Number of Confirmed Cases'])\n",
    "top_5_confirmed.head(5)"
   ]
  },
  {
   "cell_type": "code",
   "execution_count": 128,
   "metadata": {},
   "outputs": [
    {
     "data": {
      "text/plain": [
       "Number of Confirmed Cases    int64\n",
       "Number of Deaths             int64\n",
       "Number of Recovered Cases    int64\n",
       "dtype: object"
      ]
     },
     "execution_count": 128,
     "metadata": {},
     "output_type": "execute_result"
    }
   ],
   "source": [
    "top_5_confirmed.dtypes"
   ]
  },
  {
   "cell_type": "code",
   "execution_count": 124,
   "metadata": {},
   "outputs": [
    {
     "data": {
      "image/png": "[encoded data removed]",
      "text/plain": [
       "<Figure size 1440x576 with 1 Axes>"
      ]
     },
     "metadata": {
      "needs_background": "light"
     },
     "output_type": "display_data"
    }
   ],
   "source": [
    "#top 5 bar chart\n",
    "confirmed5=[81003, 24747, 13938, 8162, 7798]\n",
    "deaths5=[3203, 1809, 724, 75, 289]\n",
    "recovered5=[67017, 2335, 4590, 510, 517]\n",
    "index5=['China', 'Italy', 'Iran', 'South Korea', 'Spain']\n",
    "df = pd.DataFrame({'Confirmed': confirmed5,\n",
    "                   'Deaths': deaths5, 'Recovered': recovered5}, index=index5)\n",
    "fig_size = plt.rcParams[\"figure.figsize\"]\n",
    "fig_size[0] = 20\n",
    "fig_size[1] = 8\n",
    "plt.rcParams[\"figure.figsize\"] = fig_size\n",
    "ax = df.plot.bar(rot=0)"
   ]
  },
  {
   "cell_type": "code",
   "execution_count": 133,
   "metadata": {},
   "outputs": [
    {
     "data": {
      "text/html": [
       "<div>\n",
       "<style scoped>\n",
       "    .dataframe tbody tr th:only-of-type {\n",
       "        vertical-align: middle;\n",
       "    }\n",
       "\n",
       "    .dataframe tbody tr th {\n",
       "        vertical-align: top;\n",
       "    }\n",
       "\n",
       "    .dataframe thead th {\n",
       "        text-align: right;\n",
       "    }\n",
       "</style>\n",
       "<table border=\"1\" class=\"dataframe\">\n",
       "  <thead>\n",
       "    <tr style=\"text-align: right;\">\n",
       "      <th></th>\n",
       "      <th>Number of Confirmed Cases</th>\n",
       "      <th>Number of Deaths</th>\n",
       "      <th>Number of Recovered Cases</th>\n",
       "      <th>Number of Unresolved Cases</th>\n",
       "    </tr>\n",
       "    <tr>\n",
       "      <th>Country/Region</th>\n",
       "      <th></th>\n",
       "      <th></th>\n",
       "      <th></th>\n",
       "      <th></th>\n",
       "    </tr>\n",
       "  </thead>\n",
       "  <tbody>\n",
       "    <tr>\n",
       "      <th>China</th>\n",
       "      <td>81003</td>\n",
       "      <td>3203</td>\n",
       "      <td>67017</td>\n",
       "      <td>10783</td>\n",
       "    </tr>\n",
       "    <tr>\n",
       "      <th>Italy</th>\n",
       "      <td>24747</td>\n",
       "      <td>1809</td>\n",
       "      <td>2335</td>\n",
       "      <td>20603</td>\n",
       "    </tr>\n",
       "    <tr>\n",
       "      <th>Iran</th>\n",
       "      <td>13938</td>\n",
       "      <td>724</td>\n",
       "      <td>4590</td>\n",
       "      <td>8624</td>\n",
       "    </tr>\n",
       "    <tr>\n",
       "      <th>Korea, South</th>\n",
       "      <td>8162</td>\n",
       "      <td>75</td>\n",
       "      <td>510</td>\n",
       "      <td>7577</td>\n",
       "    </tr>\n",
       "    <tr>\n",
       "      <th>Spain</th>\n",
       "      <td>7798</td>\n",
       "      <td>289</td>\n",
       "      <td>517</td>\n",
       "      <td>6992</td>\n",
       "    </tr>\n",
       "  </tbody>\n",
       "</table>\n",
       "</div>"
      ],
      "text/plain": [
       "                Number of Confirmed Cases  Number of Deaths  \\\n",
       "Country/Region                                                \n",
       "China                               81003              3203   \n",
       "Italy                               24747              1809   \n",
       "Iran                                13938               724   \n",
       "Korea, South                         8162                75   \n",
       "Spain                                7798               289   \n",
       "\n",
       "                Number of Recovered Cases  Number of Unresolved Cases  \n",
       "Country/Region                                                         \n",
       "China                               67017                       10783  \n",
       "Italy                                2335                       20603  \n",
       "Iran                                 4590                        8624  \n",
       "Korea, South                          510                        7577  \n",
       "Spain                                 517                        6992  "
      ]
     },
     "execution_count": 133,
     "metadata": {},
     "output_type": "execute_result"
    }
   ],
   "source": [
    "#Add column to dataframe for unresolved cases confirmed - (deaths+resolved)\n",
    "# Convert the dictionary into DataFrame \n",
    "#top5 = pd.DataFrame(top_5_confirmed) \n",
    "  \n",
    "# Using 'Address' as the column name and equating it to the list \n",
    "unresolved_cases=[10783, 20603, 8624, 7577, 6992]\n",
    "#top5 = top_5_confirmed.assign(Number of Unresolved Cases = ) \n",
    "top_5_confirmed['Number of Unresolved Cases'] = unresolved_cases \n",
    "# Observe the result \n",
    "top_5_confirmed"
   ]
  },
  {
   "cell_type": "code",
   "execution_count": 144,
   "metadata": {},
   "outputs": [
    {
     "data": {
      "text/plain": [
       "Text(0, 0.5, '')"
      ]
     },
     "execution_count": 144,
     "metadata": {},
     "output_type": "execute_result"
    },
    {
     "data": {
      "image/png": "[encoded data removed]",
      "text/plain": [
       "<Figure size 360x360 with 1 Axes>"
      ]
     },
     "metadata": {},
     "output_type": "display_data"
    }
   ],
   "source": [
    "#Pie chart China\n",
    "colors=[\"blue\", \"green\", \"yellow\"]\n",
    "explode=(0.10,0,0)\n",
    "china_py=pd.DataFrame({'Number of Confirmed Cases': [3203, 67017, 10783],},\n",
    "                  index=[\"Deaths\", \"Recovered Cases\", \"Unresolved Cases\"])\n",
    "plot = china_py.plot.pie(y= 'Number of Confirmed Cases', explode=explode, colors=colors, figsize=(5, 5), autopct=\"%1.1f%%\", shadow=True, startangle=90, legend=None)\n",
    "plt.title(\"China\")\n",
    "plot.set_ylabel('')\n"
   ]
  },
  {
   "cell_type": "code",
   "execution_count": 145,
   "metadata": {},
   "outputs": [
    {
     "data": {
      "text/plain": [
       "Text(0, 0.5, '')"
      ]
     },
     "execution_count": 145,
     "metadata": {},
     "output_type": "execute_result"
    },
    {
     "data": {
      "image/png": "[encoded data removed]",
      "text/plain": [
       "<Figure size 360x360 with 1 Axes>"
      ]
     },
     "metadata": {},
     "output_type": "display_data"
    }
   ],
   "source": [
    "#Pie Chart Italy\n",
    "colors=[\"blue\", \"green\", \"yellow\"]\n",
    "explode=(0.10,0,0)\n",
    "italy_py=pd.DataFrame({'Number of Confirmed Cases': [1809, 2335, 20603],},\n",
    "                  index=[\"Deaths\", \"Recovered Cases\", \"Unresolved Cases\"])\n",
    "plot = italy_py.plot.pie(y= 'Number of Confirmed Cases', explode=explode, colors=colors, figsize=(5, 5), autopct=\"%1.1f%%\", shadow=True, startangle=90, legend=None)\n",
    "plt.title(\"Italy\")\n",
    "plot.set_ylabel('')"
   ]
  },
  {
   "cell_type": "code",
   "execution_count": 146,
   "metadata": {},
   "outputs": [
    {
     "data": {
      "text/plain": [
       "Text(0, 0.5, '')"
      ]
     },
     "execution_count": 146,
     "metadata": {},
     "output_type": "execute_result"
    },
    {
     "data": {
      "image/png": "[encoded data removed]",
      "text/plain": [
       "<Figure size 360x360 with 1 Axes>"
      ]
     },
     "metadata": {},
     "output_type": "display_data"
    }
   ],
   "source": [
    "#Pie Chart Iran\n",
    "colors=[\"blue\", \"green\", \"yellow\"]\n",
    "explode=(0.10,0,0)\n",
    "iran_py=pd.DataFrame({'Number of Confirmed Cases': [724, 4590, 8624],},\n",
    "                  index=[\"Deaths\", \"Recovered Cases\", \"Unresolved Cases\"])\n",
    "plot = iran_py.plot.pie(y= 'Number of Confirmed Cases', explode=explode, colors=colors, figsize=(5, 5), autopct=\"%1.1f%%\", shadow=True, startangle=90, legend=None)\n",
    "plt.title(\"Iran\")\n",
    "plot.set_ylabel('')"
   ]
  },
  {
   "cell_type": "code",
   "execution_count": 147,
   "metadata": {},
   "outputs": [
    {
     "data": {
      "text/plain": [
       "Text(0, 0.5, '')"
      ]
     },
     "execution_count": 147,
     "metadata": {},
     "output_type": "execute_result"
    },
    {
     "data": {
      "image/png": "[encoded data removed]",
      "text/plain": [
       "<Figure size 360x360 with 1 Axes>"
      ]
     },
     "metadata": {},
     "output_type": "display_data"
    }
   ],
   "source": [
    "#Pie Chart South Korea\n",
    "colors=[\"blue\", \"green\", \"yellow\"]\n",
    "explode=(0.10,0,0)\n",
    "sk_py=pd.DataFrame({'Number of Confirmed Cases': [75, 510, 7577],},\n",
    "                  index=[\"Deaths\", \"Recovered Cases\", \"Unresolved Cases\"])\n",
    "plot = sk_py.plot.pie(y= 'Number of Confirmed Cases', explode=explode, colors=colors, figsize=(5, 5), autopct=\"%1.1f%%\", shadow=True, startangle=90, legend=None)\n",
    "plt.title(\"South Korea\")\n",
    "plot.set_ylabel('')"
   ]
  },
  {
   "cell_type": "code",
   "execution_count": 148,
   "metadata": {},
   "outputs": [
    {
     "data": {
      "text/plain": [
       "Text(0, 0.5, '')"
      ]
     },
     "execution_count": 148,
     "metadata": {},
     "output_type": "execute_result"
    },
    {
     "data": {
      "image/png": "[encoded data removed]",
      "text/plain": [
       "<Figure size 360x360 with 1 Axes>"
      ]
     },
     "metadata": {},
     "output_type": "display_data"
    }
   ],
   "source": [
    "#Pie Chart Spain\n",
    "colors=[\"blue\", \"green\", \"yellow\"]\n",
    "explode=(0.10,0,0)\n",
    "spain_py=pd.DataFrame({'Number of Confirmed Cases': [289, 517, 6992],},\n",
    "                  index=[\"Deaths\", \"Recovered Cases\", \"Unresolved Cases\"])\n",
    "plot = spain_py.plot.pie(y= 'Number of Confirmed Cases', explode=explode, colors=colors, figsize=(5, 5), autopct=\"%1.1f%%\", shadow=True, startangle=90, legend=None)\n",
    "plt.title(\"Spain\")\n",
    "plot.set_ylabel('')\n"
   ]
  },
  {
   "cell_type": "code",
   "execution_count": null,
   "metadata": {},
   "outputs": [],
   "source": []
  }
 ],
 "metadata": {
  "kernelspec": {
   "display_name": "Python [conda env:PythonData]",
   "language": "python",
   "name": "conda-env-PythonData-py"
  },
  "language_info": {
   "codemirror_mode": {
    "name": "ipython",
    "version": 3
   },
   "file_extension": ".py",
   "mimetype": "text/x-python",
   "name": "python",
   "nbconvert_exporter": "python",
   "pygments_lexer": "ipython3",
   "version": "3.8.1"
  }
 },
 "nbformat": 4,
 "nbformat_minor": 2
}
